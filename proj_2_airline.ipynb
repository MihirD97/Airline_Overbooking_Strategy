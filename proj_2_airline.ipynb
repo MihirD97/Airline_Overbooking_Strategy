{
 "cells": [
  {
   "attachments": {},
   "cell_type": "markdown",
   "metadata": {},
   "source": [
    "## Import libraries"
   ]
  },
  {
   "cell_type": "code",
   "execution_count": 44,
   "metadata": {},
   "outputs": [],
   "source": [
    "import numpy as np\n",
    "import pandas as pd\n",
    "import matplotlib.pyplot as plt\n",
    "import scipy\n",
    "from scipy import stats\n",
    "import operator\n",
    "%matplotlib inline"
   ]
  },
  {
   "attachments": {},
   "cell_type": "markdown",
   "metadata": {},
   "source": [
    "## Set global variables"
   ]
  },
  {
   "cell_type": "code",
   "execution_count": 45,
   "metadata": {},
   "outputs": [],
   "source": [
    "#######################################################\n",
    "############# Changeable parameters ###################\n",
    "#######################################################\n",
    "Mc = 100 # number of coach seats on plane\n",
    "Mf = 20 # number of first class seats on plane\n",
    "\n",
    "T = 365 # days until takeoff\n",
    "\n",
    "# Set Coach Prices\n",
    "price_c_L = 300\n",
    "price_c_H = 350\n",
    "# Set First Class Prices\n",
    "price_f_L = 425\n",
    "price_f_H = 500\n",
    "\n",
    "\n",
    "pcL = [0.35,0.65] # demand probabilities for coach low price\n",
    "pcH = [0.7,0.3] # demand probabilities for coach high price\n",
    "pfL = [0.92,0.08] # demand probabilities for first class low price\n",
    "pfH = [0.96,0.04] # demand probabilities for first class high price\n",
    "\n",
    "#########################################################\n",
    "############# End of changeable parameters ##############\n",
    "#########################################################\n"
   ]
  },
  {
   "cell_type": "code",
   "execution_count": 46,
   "metadata": {},
   "outputs": [],
   "source": [
    "# Calculate remaining parameters\n",
    "delta = 1 / (1+(0.17/T)) # discount rate\n",
    "scValues = np.arange(Mc+1) # all possible number of coach seats left\n",
    "sfValues = np.arange(Mf+1) # all possible number of first class seats left\n",
    "\n",
    "tValues = np.arange(T+1) # all possible days until takeoff\n",
    "\n",
    "scN = len(scValues) # count possible state values for coach\n",
    "sfN = len(sfValues) # count possible state values for first class\n",
    "\n",
    "tN = len(tValues)"
   ]
  },
  {
   "attachments": {},
   "cell_type": "markdown",
   "metadata": {},
   "source": [
    "## Define functions for fixed strategy "
   ]
  },
  {
   "cell_type": "code",
   "execution_count": 47,
   "metadata": {},
   "outputs": [],
   "source": [
    "def init_cost(O,scN,sfN,tN):\n",
    "    ''' \n",
    "    For a given overbooking cap, calculates the cost of bumping / kicking off passengers on the final day of time period (has a caching functionality)\n",
    "    Input:\n",
    "    O - Overbooking cap for which we want to calculate final day costs\n",
    "    scN - count possible state values for coach\n",
    "    sfN - count possible state values for first class\n",
    "    tN - Total no of time periods\n",
    "\n",
    "    Output: \n",
    "    V - 3x3 Zero value initialized value matrix with the last column filled with cost values associated with every combination of seats booked in coach and first class\n",
    "    '''\n",
    "    \n",
    "\n",
    "    V = np.zeros((scN+O,sfN, tN)) # initialize value function\n",
    "    name = \"V_init_\"+str(O)+\".csv\"\n",
    "\n",
    "    # Cache the results in a csv file for given value of O (overbook cap) since calculation takes a lot of time.\n",
    "    # Try to load csv file first, if it doesnt exist, only then perform the calculations.\n",
    "    try:\n",
    "        # Read csv file\n",
    "        V = pd.read_csv(name).iloc[:,1]\n",
    "        V = np.array(V).reshape((scN+O,sfN, tN))\n",
    "        print(\"Found cache file for O = \"+str(O))\n",
    "        \n",
    "    except:\n",
    "        # If no csv file (cache) found, perform the calculations\n",
    "        print(\"No cache file found for O = \"+str(O))\n",
    "        # boundary/terminal condition\n",
    "        # Need to calculate boundary conditions for all possible values of seats left in first class and coach\n",
    "        for sc in range(scN+O): # for every possible value of seats left in coach\n",
    "            for sf in range(sfN): # for every possible value of seats left in first class\n",
    "\n",
    "                # Initialize cost vector\n",
    "                cost_m = np.zeros((scN+O,sfN))\n",
    "\n",
    "                # In order to calculate expected value of cost, we need to check iterate through every possibility (if n seats are booked, what is the prob that 1 out of n show up,\n",
    "                # calculate costs for that scenario, multiply by probability of that scenario, then what is the probability that 2 out of n show up, do the same calcs and so forth)\n",
    "                for c in range(scN+O-sc): # if (scN + O - sc) = nc seats are booked in coach, iterate through 1 in nc show up, 2 in nc show up... nc in nc show up\n",
    "                    for f in range(sfN-sf): # if (sfN - sf) = nf seats are booked in first class, iterate through 1 in nf show up, 2 in nf show up... nf in nf show up\n",
    "                        cost = 0\n",
    "                        # If no of bookings in coach exceed coach capacity and there aren't enough extra seats in first class\n",
    "                        if c>(scN-1) and ((c-scN+1) > (sfN-1-f)):\n",
    "                            cost = ((c-scN+1) - (sfN-1-f))*425 + (sfN-1-f)*50\n",
    "                        # If no of bookings in coach exceed coach capacity and there are enough extra seats in first class\n",
    "                        elif c>(scN-1) and ((c-scN+1) <= (sfN-1-f)):\n",
    "                            cost = (c-scN+1)*50\n",
    "                        # calculate expected value of cost\n",
    "                        cost_m[c,f] = stats.binom.pmf(c,scN-1+O-sc,0.95)*stats.binom.pmf(f,sfN-1-sf,0.97)*cost\n",
    "                V[sc,sf,tN-1] = -sum(sum(cost_m[:,:]))\n",
    "        \n",
    "        # save the results in a csv file\n",
    "        v_df = pd.DataFrame(V.flatten())\n",
    "\n",
    "        v_df.to_csv(name)\n",
    "        \n",
    "\n",
    "    \n",
    "    return V\n"
   ]
  },
  {
   "cell_type": "code",
   "execution_count": 48,
   "metadata": {},
   "outputs": [],
   "source": [
    "def get_optimal_pricing(O=5):\n",
    "\n",
    "    ''' \n",
    "    For a given overbooking cap, calculates the ideal value matrix and ideal path matrix for airline revenue and flight ticket prices\n",
    "    Input:\n",
    "    O (default value 5) - Overbooking cap for which we want to calculate ideal value and path matrices\n",
    "\n",
    "    Output: \n",
    "    [V,U] - Array containing 2 elements: V - Ideal Value matrix (revenue), U - Ideal path matrix\n",
    "    \n",
    "    '''\n",
    "\n",
    "    # REMEMBER: O is the OVERBOOKING CAP i.e how many tickets can we sell ABOVE the usual no. of coach seats\n",
    "    # So if O = 5 and seats in coach Mc = 100, that means total tickets that can be sold in coach = 100 + 5 = 105\n",
    "\n",
    "    \n",
    "    V = init_cost(O,scN,sfN,tN)\n",
    "    U = np.zeros((scN+O,sfN, tN)) # initialize optimal choice variable\n",
    "\n",
    "    # boundary/terminal condition\n",
    "    # Need to calculate boundary conditions for all possible values of\n",
    "\n",
    "    \n",
    "    U[:,:,tN-1] = 5 # 5 is the value for no tickets for sale (there are 4 choices we can make in this strategy, so 1 - 4 is used, we use 5 to indicate no ticket sale)\n",
    "\n",
    "\n",
    "\n",
    "\n",
    "    for t in reversed(range(tN-1)):\n",
    "        for sc in range(0,scN+O):\n",
    "            for sf in range(sfN):\n",
    "\n",
    "                # Reset value of probabilities of all classes\n",
    "                # Default probability if there are seats available in both coach and first class\n",
    "                pcL_f = pcL # demand probabilities for coach low price\n",
    "                pcH_f = pcH # demand probabilities for coach high price\n",
    "                pfL_f = pfL # demand probabilities for first class low price\n",
    "                pfH_f = pfH # demand probabilities for first class high price\n",
    "\n",
    "                # Depending on which seats are available in which class, we change the probabilities\n",
    "                if sf==0 and sc==0: # if the flight full (0 seats left and fully overbooked)\n",
    "                    # Change probabilities of coach class buy\n",
    "                    pcL_f = [1,0] # demand probabilities for coach low price\n",
    "                    pcH_f = [1,0] # demand probabilities for coach high price\n",
    "                    pfL_f = [1,0] # demand probabilities for first class low price\n",
    "                    pfH_f = [1,0] # demand probabilities for first class high price\n",
    "                    \n",
    "\n",
    "                elif sf==0 and sc>0: # if first class is full but coach is not\n",
    "                    # Change probabilities of coach class buy\n",
    "                    pcL_f = list(map(operator.add, pcL_f, [-0.03, 0.03])) # demand probabilities for coach low price\n",
    "                    pcH_f = list(map(operator.add, pcH_f, [-0.03, 0.03])) # demand probabilities for coach low price # demand probabilities for coach high price\n",
    "                    pfL_f = [1,0] # demand probabilities for first class low price\n",
    "                    pfH_f = [1,0] # demand probabilities for first class high price\n",
    "                elif sf>0 and sc==0: # if coach is full but first class is not\n",
    "                    pcL_f = [1,0] # demand probabilities for coach low price\n",
    "                    pcH_f = [1,0] # demand probabilities for coach high price\n",
    "                    pfL_f = [0.92,0.08] # demand probabilities for first class low price\n",
    "                    pfH_f = [0.96,0.04] # demand probabilities for first class high price\n",
    "\n",
    "\n",
    "                # value if you set the price high-high\n",
    "                # expected revenue from high coach price + expected revenue from high first class price + discounted expected value function next time\n",
    "                valueHH = pcH_f[1]*price_c_H +pfH_f[1]*price_f_H + delta* (pcH_f[0]*pfH_f[0]*V[sc,sf,t+1] + pcH_f[0]*pfH_f[1]*V[sc,sf-1,t+1] + pcH_f[1]*pfH_f[0]*V[sc-1,sf,t+1] + pcH_f[1]*pfH_f[1]*V[sc-1,sf-1,t+1])\n",
    "                \n",
    "\n",
    "                # value if you set the price high-low\n",
    "                # expected revenue from high coach price + expected revenue from low first class price + discounted expected value function next time\n",
    "                valueHL = pcH_f[1]*price_c_H +pfL_f[1]*price_f_L + delta* (pcH_f[0]*pfL_f[0]*V[sc,sf,t+1] + pcH_f[0]*pfL_f[1]*V[sc,sf-1,t+1] + pcH_f[1]*pfL_f[0]*V[sc-1,sf,t+1] + pcH_f[1]*pfL_f[1]*V[sc-1,sf-1,t+1])\n",
    "                \n",
    "\n",
    "\n",
    "                # value if you set the price low-high\n",
    "                # expected revenue from low coach price + expected revenue from high first class price + discounted expected value function next time\n",
    "                valueLH = pcL_f[1]*price_c_L +pfH_f[1]*price_f_H + delta* (pcL_f[0]*pfH_f[0]*V[sc,sf,t+1] + pcL_f[0]*pfH_f[1]*V[sc,sf-1,t+1] + pcL_f[1]*pfH_f[0]*V[sc-1,sf,t+1] + pcL_f[1]*pfH_f[1]*V[sc-1,sf-1,t+1])\n",
    "        \n",
    "\n",
    "                # value if you set the price low-low\n",
    "                # expected revenue from low coach price + expected revenue from low first class price + discounted expected value function next time\n",
    "                valueLL = pcL_f[1]*price_c_L +pfL_f[1]*price_f_L + delta* (pcL_f[0]*pfL_f[0]*V[sc,sf,t+1] + pcL_f[0]*pfL_f[1]*V[sc,sf-1,t+1] + pcL_f[1]*pfL_f[0]*V[sc-1,sf,t+1] + pcL_f[1]*pfL_f[1]*V[sc-1,sf-1,t+1])\n",
    "                \n",
    "\n",
    "                V[sc,sf,t]=max(valueLL,valueLH,valueHL,valueHH) # value funciton maximizes expected revenue\n",
    "                U[sc,sf,t]=np.argmax([valueLL,valueLH,valueHL,valueHH])+1 # choice of price: 1 means low-low price, 2 means low-high price, 3 means high-low price, 4 means high-high price\n",
    "                \n",
    "                # If no seats available, set optimal path to 5 i.e no tickets available\n",
    "                if sf==0 and sc==0:\n",
    "                    U[sc,sf,t]=5 # no tickets for sale\n",
    "\n",
    "    return [V, U]\n",
    "    "
   ]
  },
  {
   "attachments": {},
   "cell_type": "markdown",
   "metadata": {},
   "source": [
    "## Calculate Optimal pricing for each overbooking cap -"
   ]
  },
  {
   "cell_type": "code",
   "execution_count": 49,
   "metadata": {},
   "outputs": [
    {
     "name": "stdout",
     "output_type": "stream",
     "text": [
      "Found cache file for O = 5\n",
      "Found cache file for O = 6\n",
      "Found cache file for O = 7\n",
      "Found cache file for O = 8\n",
      "Found cache file for O = 9\n",
      "Found cache file for O = 10\n",
      "Found cache file for O = 11\n",
      "Found cache file for O = 12\n",
      "Found cache file for O = 13\n",
      "Found cache file for O = 14\n",
      "Found cache file for O = 15\n"
     ]
    }
   ],
   "source": [
    "# Iterate through various values of overbooking cap (from 5 to 15) and store results in a dictionary\n",
    "O_dict = {}\n",
    "\n",
    "for O in range(5,16):\n",
    "    O_dict[O] = get_optimal_pricing(O) # Store the [V,U] array returned by function in the dictionary as a value where the correspndong key is the overbooking cap O"
   ]
  },
  {
   "cell_type": "code",
   "execution_count": 50,
   "metadata": {},
   "outputs": [
    {
     "data": {
      "text/plain": [
       "41886.1586241959"
      ]
     },
     "execution_count": 50,
     "metadata": {},
     "output_type": "execute_result"
    }
   ],
   "source": [
    "# What is the ideal revenue when O = 5?\n",
    "O_dict[5][0][scN+4,sfN-1,0]"
   ]
  },
  {
   "attachments": {},
   "cell_type": "markdown",
   "metadata": {},
   "source": [
    "## Get optimal revenue"
   ]
  },
  {
   "cell_type": "code",
   "execution_count": 51,
   "metadata": {},
   "outputs": [
    {
     "data": {
      "text/plain": [
       "42134.62483034169"
      ]
     },
     "execution_count": 51,
     "metadata": {},
     "output_type": "execute_result"
    }
   ],
   "source": [
    "# Find maximum revenue from the list of all value matrices for different overbooking caps\n",
    "\n",
    "max_val = []\n",
    "for O in range(5,16):\n",
    "    max_val.append(O_dict[O][0][scN+O-1,sfN-1,0])\n",
    "\n",
    "O_dict[5+np.argmax(max_val)][0][scN+4+np.argmax(max_val),sfN-1,0]"
   ]
  },
  {
   "cell_type": "code",
   "execution_count": 52,
   "metadata": {},
   "outputs": [
    {
     "data": {
      "text/plain": [
       "[<matplotlib.lines.Line2D at 0x151b8042640>]"
      ]
     },
     "execution_count": 52,
     "metadata": {},
     "output_type": "execute_result"
    },
    {
     "data": {
      "image/png": "[encoded data removed]",
      "text/plain": [
       "<Figure size 432x288 with 1 Axes>"
      ]
     },
     "metadata": {
      "needs_background": "light"
     },
     "output_type": "display_data"
    }
   ],
   "source": [
    "plt.plot(list(range(5,16)),max_val)"
   ]
  },
  {
   "cell_type": "code",
   "execution_count": 53,
   "metadata": {},
   "outputs": [
    {
     "data": {
      "text/plain": [
       "9"
      ]
     },
     "execution_count": 53,
     "metadata": {},
     "output_type": "execute_result"
    }
   ],
   "source": [
    "# What value of overbooking cap gives us the maximum revenue?\n",
    "5+np.argmax(max_val)"
   ]
  },
  {
   "attachments": {},
   "cell_type": "markdown",
   "metadata": {},
   "source": [
    "## Define functions alternate strategy"
   ]
  },
  {
   "cell_type": "code",
   "execution_count": 54,
   "metadata": {},
   "outputs": [],
   "source": [
    "def get_optimal_pricing_alt():\n",
    "    ''' \n",
    "    Calculates the ideal value matrix and ideal path matrix for airline revenue and flight ticket prices with no overbooking cap.\n",
    "    Remember, this is the same as the fixed overbooking cap strategy, however, the airline has an additional 3rd choice available for coach seats each day; they can choose\n",
    "    NOT to sell any seats even if there are seats available. In the previous strategy, if there were coach seats available, the airline HAD to sell them if a purchase was made\n",
    "    Input:\n",
    "    None\n",
    "    Output: \n",
    "    [V,U] - Array containing 2 elements: V - Ideal Value matrix (revenue), U - Ideal path matrix\n",
    "    \n",
    "    '''\n",
    "\n",
    "    O = Mf # All seats in first class available for overbooking\n",
    "    V = init_cost(O,scN,sfN,tN)\n",
    "    U = np.zeros((scN+O,sfN, tN)) # initialize optimal choice variable\n",
    "    \n",
    "    # boundary/terminal condition\n",
    "    # Need to calculate boundary conditions for all possible values of seats left in coach and first class\n",
    "\n",
    "    \n",
    "    U[:,:,tN-1] = 7 # 7 is the value for no tickets for sale (there are 6 choices we can make in this strategy, so 1 - 6 is used, we use 7 to indicate no ticket sale)\n",
    "\n",
    "\n",
    "\n",
    "    for t in reversed(range(tN-1)):\n",
    "        for sc in range(0,scN+O):\n",
    "            for sf in range(sfN):\n",
    "\n",
    "                # Reset value of probabilities of all classes\n",
    "                # Default probability if there are seats available in both coach and first class\n",
    "                pcL_f = pcL # demand probabilities for coach low price\n",
    "                pcH_f = pcH # demand probabilities for coach high price\n",
    "                pfL_f = pfL # demand probabilities for first class low price\n",
    "                pfH_f = pfH # demand probabilities for first class high price\n",
    "\n",
    "                # Depending on which seats are available in which class, we change the probabilities\n",
    "                if sf==0 and sc==0: # if the flight full (0 seats left and fully overbooked)\n",
    "                    # Change probabilities of coach class buy\n",
    "                    pcL_f = [1,0] # demand probabilities for coach low price\n",
    "                    pcH_f = [1,0] # demand probabilities for coach high price\n",
    "                    pfL_f = [1,0] # demand probabilities for first class low price\n",
    "                    pfH_f = [1,0] # demand probabilities for first class high price\n",
    "                    \n",
    "\n",
    "                elif sf==0 and sc>0: # if first class is full but coach is not\n",
    "                    # Change probabilities of coach class buy\n",
    "                    pcL_f = list(map(operator.add, pcL_f, [-0.03, 0.03])) # demand probabilities for coach low price\n",
    "                    pcH_f = list(map(operator.add, pcH_f, [-0.03, 0.03])) # demand probabilities for coach low price # demand probabilities for coach high price\n",
    "                    pfL_f = [1,0] # demand probabilities for first class low price\n",
    "                    pfH_f = [1,0] # demand probabilities for first class high price\n",
    "                elif sf>0 and sc==0: # if coach is full but first class is not\n",
    "                    pcL_f = [1,0] # demand probabilities for coach low price\n",
    "                    pcH_f = [1,0] # demand probabilities for coach high price\n",
    "                    pfL_f = [0.92,0.08] # demand probabilities for first class low price\n",
    "                    pfH_f = [0.96,0.04] # demand probabilities for first class high price\n",
    "\n",
    "\n",
    "                # value if you set the price high-high\n",
    "                # expected revenue from high coach price + expected revenue from high first class price + discounted expected value function next time\n",
    "                valueHH = pcH_f[1]*price_c_H +pfH_f[1]*price_f_H + delta* (pcH_f[0]*pfH_f[0]*V[sc,sf,t+1] + pcH_f[0]*pfH_f[1]*V[sc,sf-1,t+1] + pcH_f[1]*pfH_f[0]*V[sc-1,sf,t+1] + pcH_f[1]*pfH_f[1]*V[sc-1,sf-1,t+1])\n",
    "                \n",
    "\n",
    "                # value if you set the price high-low\n",
    "                # expected revenue from high coach price + expected revenue from low first class price + discounted expected value function next time\n",
    "                valueHL = pcH_f[1]*price_c_H +pfL_f[1]*price_f_L + delta* (pcH_f[0]*pfL_f[0]*V[sc,sf,t+1] + pcH_f[0]*pfL_f[1]*V[sc,sf-1,t+1] + pcH_f[1]*pfL_f[0]*V[sc-1,sf,t+1] + pcH_f[1]*pfL_f[1]*V[sc-1,sf-1,t+1])\n",
    "                \n",
    "\n",
    "\n",
    "                # value if you set the price low-high\n",
    "                # expected revenue from low coach price + expected revenue from high first class price + discounted expected value function next time\n",
    "                valueLH = pcL_f[1]*price_c_L +pfH_f[1]*price_f_H + delta* (pcL_f[0]*pfH_f[0]*V[sc,sf,t+1] + pcL_f[0]*pfH_f[1]*V[sc,sf-1,t+1] + pcL_f[1]*pfH_f[0]*V[sc-1,sf,t+1] + pcL_f[1]*pfH_f[1]*V[sc-1,sf-1,t+1])\n",
    "        \n",
    "\n",
    "                # value if you set the price low-low\n",
    "                # expected revenue from low coach price + expected revenue from low first class price + discounted expected value function next time\n",
    "                valueLL = pcL_f[1]*price_c_L +pfL_f[1]*price_f_L + delta* (pcL_f[0]*pfL_f[0]*V[sc,sf,t+1] + pcL_f[0]*pfL_f[1]*V[sc,sf-1,t+1] + pcL_f[1]*pfL_f[0]*V[sc-1,sf,t+1] + pcL_f[1]*pfL_f[1]*V[sc-1,sf-1,t+1])\n",
    "                \n",
    "                \n",
    "                ### This is where the strategy differs, we define an additional TWO values (since there is a 3rd choice that we can make, so total choices = 3*2 = 6) #####\n",
    "\n",
    "\n",
    "                # value if you set the price no sale-low\n",
    "                # expected revenue from no sale coach + expected revenue from low first class price + discounted expected value function next time\n",
    "                valueNL = 0 + pfL_f[1]*price_f_L + delta* (pfL_f[0]*V[sc,sf,t+1] + pfL_f[1]*V[sc,sf-1,t+1])\n",
    "\n",
    "                # value if you set the price no sale-high\n",
    "                # expected revenue from no sale coach + expected revenue from high first class price + discounted expected value function next time\n",
    "                valueNH = 0 + pfH_f[1]*price_f_H + delta* (pfH_f[0]*V[sc,sf,t+1] + pfH_f[1]*V[sc,sf-1,t+1])\n",
    "\n",
    "                V[sc,sf,t]=max(valueLL,valueLH,valueHL,valueHH,valueNL,valueNH) # value funciton maximizes expected revenue\n",
    "                U[sc,sf,t]=np.argmax([valueLL,valueLH,valueHL,valueHH,valueNL,valueNH])+1 # choice of price: 1 means low-low price, 2 means low-high price, 3 means high-low price, 4 means high-high price, 5 means no sale-low, 6 means no sale-high\n",
    "                \n",
    "                # If no seats available, set optimal path to 7 i.e no tickets available\n",
    "                if sf==0 and sc==0:\n",
    "                    U[sc,sf,t]=7 # no tickets for sale\n",
    "\n",
    "    return [V, U]"
   ]
  },
  {
   "cell_type": "code",
   "execution_count": 55,
   "metadata": {},
   "outputs": [
    {
     "name": "stdout",
     "output_type": "stream",
     "text": [
      "Found cache file for O = 20\n"
     ]
    }
   ],
   "source": [
    "O_alt = get_optimal_pricing_alt()"
   ]
  },
  {
   "cell_type": "code",
   "execution_count": 56,
   "metadata": {},
   "outputs": [
    {
     "data": {
      "text/plain": [
       "42139.89276231979"
      ]
     },
     "execution_count": 56,
     "metadata": {},
     "output_type": "execute_result"
    }
   ],
   "source": [
    "O_alt[0][120,20,0]"
   ]
  },
  {
   "attachments": {},
   "cell_type": "markdown",
   "metadata": {},
   "source": [
    "## Simulation for optimal booking strategy"
   ]
  },
  {
   "cell_type": "code",
   "execution_count": 57,
   "metadata": {},
   "outputs": [],
   "source": [
    "def simulate(strategy = 'fixed',N=10000):\n",
    "\n",
    "    ''' \n",
    "    For a given strategy, carry out simulation of ticket sales and people who show up on the last day and return various metrics\n",
    "\n",
    "    Input:\n",
    "\n",
    "    strategy (default value 'fixed') - The strategy used for simulation. If 'fixed' then we use the first approach where overbooking cap is fixed. We use the path matrix U\n",
    "    corresponding to the overbooking cap that gave the optimal revenue.\n",
    "\n",
    "    N (default value 10000) - No. of times you want to run the simulation\n",
    "\n",
    "    Output:\n",
    "\n",
    "    overbooked_vec - Vector of size 1xN where each value corresponds to the # of people overbooked for the flight on the last day per each simulation\n",
    "    bumped_vec - Vector of size 1xN where each value corresponds to the # of people bumped from coach to first class for the flight on the last day per each simulation\n",
    "    kicked_vec - Vector of size 1xN where each value corresponds to the # of people kicked out from coach for the flight on the last day per each simulation\n",
    "    final_revenue_vec - Vector of size 1xN where each value corresponds to the revenue of the flight on the last day per each simulation\n",
    "    cost_vec - Vector of size 1xN where each value corresponds to the cost incurred for bumping/kicking off customers from the flight on the last day per each simulation\n",
    "    \n",
    "    '''\n",
    "\n",
    "    # Initialize arrays\n",
    "    overbooked_vec = np.zeros(N)\n",
    "    kicked_vec = np.zeros(N)\n",
    "    bumped_vec = np.zeros(N)\n",
    "    cost_vec = np.zeros(N)\n",
    "    final_revenue_vec = np.zeros(N)\n",
    "    seats_booked_c_vec = np.zeros(N)\n",
    "    seats_booked_f_vec = np.zeros(N)\n",
    "    optimal_prices_mat = np.zeros((N,T,2))\n",
    "\n",
    "\n",
    "    # Choose appropriate values of ideal path matrix and overbooking cap depending on strategy\n",
    "    if strategy == 'fixed':\n",
    "        U = O_dict[5+np.argmax(max_val)][1]\n",
    "        # Set overbooking cap = ideal overbooking cap from first strategy\n",
    "        overbook_cap = 5+np.argmax(max_val)\n",
    "    elif strategy == 'alt':\n",
    "        U = O_alt[1]\n",
    "        # Set overbooking cap to unlimited (i.e all seats available in first class)\n",
    "        overbook_cap = Mf\n",
    "    else:\n",
    "        print(\"Invalid strategy: Please select either 'fixed' or 'alt'\")\n",
    "        print(\"Defaulting to 'fixed'\")\n",
    "        U = O_dict[5+np.argmax(max_val)][1]\n",
    "        # Set overbooking cap = ideal overbooking cap from first strategy by default\n",
    "        overbook_cap = 5+np.argmax(max_val)\n",
    "    \n",
    "\n",
    "\n",
    "    # Carry out simulation\n",
    "\n",
    "    for n in range(N):\n",
    "        \n",
    "        sc = scN-1+overbook_cap # on the first day all seats are available for coach + all first class seats for overbooking\n",
    "        sf = sfN-1 # on the first day all seats are available for first class seats\n",
    "        total_rev = 0 # we haven't made any money yet\n",
    "        seats_left_vec_coach = np.zeros(tN-1) # store how many seats in coach\n",
    "        seats_left_vec_first_class = np.zeros(tN-1) # store how many seats in coach\n",
    "        #print(sc)\n",
    "        revenue_vec = np.zeros(tN-1)\n",
    "\n",
    "        price_vec = np.zeros(tN-1)\n",
    "\n",
    "\n",
    "        for t in range(tN-1): # loop forward in time...don't need last time period since we can't sell anything then\n",
    "\n",
    "\n",
    "            # Reset value of probabilities of all classes\n",
    "            # Default probability if there are seats available in both coach and first class\n",
    "            pcL_f = pcL # demand probabilities for coach low price\n",
    "            pcH_f = pcH # demand probabilities for coach high price\n",
    "            pfL_f = pfL # demand probabilities for first class low price\n",
    "            pfH_f = pfH # demand probabilities for first class high price\n",
    "\n",
    "            # Encodes U values into ordered pairs, used for optimal_prices_mat\n",
    "            # 0 indicates no sale, 1 indicates low price, 2 indicates high price\n",
    "            # first coordinate is coach second is first class\n",
    "            old_to_new_encod_dic = {1:[1,1], 2:[1,2], 3:[2,1], 4:[2,2], 5:[0,1], 6:[0,2], 7:[0,3]} \n",
    "            price_sold = old_to_new_encod_dic[U[sc,sf,t]] # stores how much we should charge.\n",
    "\n",
    "            # Depending on which seats are available in which class, we change the probabilities\n",
    "            if sf==0 and sc==0: # if the flight full (0 seats left and fully overbooked)\n",
    "                # Change probabilities of coach class buy\n",
    "                pcL_f = [1,0] # demand probabilities for coach low price\n",
    "                pcH_f = [1,0] # demand probabilities for coach high price\n",
    "                pfL_f = [1,0] # demand probabilities for first class low price\n",
    "                pfH_f = [1,0] # demand probabilities for first class high price\n",
    "                price_sold = [0,0]\n",
    "\n",
    "            elif sf==0 and sc>0: # if first class is full but coach is not\n",
    "                # Change probabilities of coach class buy\n",
    "                pcL_f = list(map(operator.add, pcL_f, [-0.03, 0.03])) # demand probabilities for coach low price\n",
    "                pcH_f = list(map(operator.add, pcH_f, [-0.03, 0.03])) # demand probabilities for coach low price # demand probabilities for coach high price\n",
    "                pfL_f = [1,0] # demand probabilities for first class low price\n",
    "                pfH_f = [1,0] # demand probabilities for first class high price\n",
    "                price_sold[1] = 0#  Guarantees we record for u2 that first class isn't sold\n",
    "\n",
    "            elif sf>0 and sc==0: # if coach is full but first class is not\n",
    "                pcL_f = [1,0] # demand probabilities for coach low price\n",
    "                pcH_f = [1,0] # demand probabilities for coach high price\n",
    "                pfL_f = [0.92,0.08] # demand probabilities for first class low price\n",
    "                pfH_f = [0.96,0.04] # demand probabilities for first class high price\n",
    "                price_sold[0] = 0 # Guarantees we record that coach isn't sold \n",
    "\n",
    "            optimal_prices_mat[n,t,:] = price_sold # Save price sold data to optimal_prices_mat\n",
    "\n",
    "            \n",
    "            opt_price = U[sc,sf,t] # how much should we charge\n",
    "            price_vec[t] = opt_price\n",
    "\n",
    "            # Depending on the no of seats left in coach and first class, get the value of the optimal choice from the ideal path matrix\n",
    "            # Depending on ideal choice obtained, set corresponding values of probability of sales and ticket prices in coach and first class\n",
    "\n",
    "            if opt_price == 1: # low low\n",
    "                prob_sale_coach = pcL_f[1] # for each value of U find probability of making a sale\n",
    "                prob_sale_first = pfL_f[1] # for each value of U find probability of making a sale\n",
    "                actual_price_coach = price_c_L # for each value find actual sale price\n",
    "                actual_price_first_class = price_f_L # for each value find actual sale price\n",
    "\n",
    "            elif opt_price == 2: # low high\n",
    "                prob_sale_coach = pcL_f[1] # for each value of U find probability of making a sale\n",
    "                prob_sale_first = pfH_f[1] # for each value of U find probability of making a sale\n",
    "                actual_price_coach = price_c_L # for each value find actual sale price\n",
    "                actual_price_first_class = price_f_H # for each value find actual sale price\n",
    "\n",
    "            elif opt_price == 3: # high low\n",
    "                prob_sale_coach = pcH_f[1] # for each value of U find probability of making a sale\n",
    "                prob_sale_first = pfL_f[1] # for each value of U find probability of making a sale\n",
    "                actual_price_coach = price_c_H # for each value find actual sale price\n",
    "                actual_price_first_class = price_f_L # for each value find actual sale price\n",
    "\n",
    "            elif opt_price == 4: # high high\n",
    "                prob_sale_coach = pcH_f[1] # for each value of U find probability of making a sale\n",
    "                prob_sale_first = pfH_f[1] # for each value of U find probability of making a sale\n",
    "                actual_price_coach = price_c_H # for each value find actual sale price\n",
    "                actual_price_first_class = price_f_H # for each value find actual sale price\n",
    "\n",
    "            elif opt_price == 5: # no sale low or no tickets for sale\n",
    "\n",
    "                # Caveat - For fixed strategy, we use 5 to indicate no ticket sale but for alternate stragey, 5 is used to indicate no sales (coach) - low price first class\n",
    "                # So just make sure we pick the right values for purchase probability and ticket prices depending on which strategy is picked when calling function\n",
    "\n",
    "                if strategy=='fixed': # no tickets for sale\n",
    "                    prob_sale_coach = 0 # for each value of U find probability of making a sale\n",
    "                    prob_sale_first = 0 # for each value of U find probability of making a sale\n",
    "                    actual_price_coach = 0 # for each value find actual sale price\n",
    "                    actual_price_first_class = 0 # for each value find actual sale price\n",
    "                else: # no sale low\n",
    "                    prob_sale_coach = 0 # for each value of U find probability of making a sale\n",
    "                    prob_sale_first = pfL_f[1] # for each value of U find probability of making a sale\n",
    "                    actual_price_coach = 0 # for each value find actual sale price\n",
    "                    actual_price_first_class = price_f_L # for each value find actual sale price\n",
    "\n",
    "            elif opt_price == 6: # no sale high\n",
    "                prob_sale_coach = 0 # for each value of U find probability of making a sale\n",
    "                prob_sale_first = pfH_f[1] # for each value of U find probability of making a sale\n",
    "                actual_price_coach = 0 # for each value find actual sale price\n",
    "                actual_price_first_class = price_f_H # for each value find actual sale price\n",
    "\n",
    "            else: # no tickets for sale\n",
    "                prob_sale_coach = 0 # for each value of U find probability of making a sale\n",
    "                prob_sale_first = 0 # for each value of U find probability of making a sale\n",
    "                actual_price_coach = 0 # for each value find actual sale price\n",
    "                actual_price_first_class = 0 # for each value find actual sale price\n",
    "\n",
    "\n",
    "            sale_coach = (np.random.random(1)<prob_sale_coach) # simulate whether a sale was made or not in coach\n",
    "            sale_first_class = (np.random.random(1)<prob_sale_first) # simulate whether a sale was made or not in first_class\n",
    "            # when the flight is full the probability of sale is 0, we'll never get a sale\n",
    "\n",
    "            sc = int(sc - sale_coach) # subtract whether or not a sale was made in coach\n",
    "            sf = int(sf - sale_first_class) # subtract whether or not a sale was made in first class\n",
    "\n",
    "            total_rev = total_rev + sale_coach*actual_price_coach*delta**(t-1) + sale_first_class*actual_price_first_class*delta**(t-1)# add discounted revenue\n",
    "            # save the results\n",
    "            seats_left_vec_coach[t] = sc \n",
    "            seats_left_vec_first_class[t] = sf\n",
    "            revenue_vec[t] = total_rev\n",
    "\n",
    "\n",
    "        # How many people actually show up on the last day?\n",
    "\n",
    "        # Calculate # of seats booked (Not how many people actually show up but what are the no of seats BOOKED)\n",
    "        seats_booked_coach = scN-1+overbook_cap - sc\n",
    "        seats_booked_first_class = sfN-1+ - sf\n",
    "        seats_booked_c_vec[n] = seats_booked_coach\n",
    "        seats_booked_f_vec[n] = seats_booked_first_class\n",
    "\n",
    "        # Simulate the last day to see how many people actually show up\n",
    "        showup_coach = 0\n",
    "        showup_first_class = 0\n",
    "        for i in range(seats_booked_coach):\n",
    "            showup_coach+=np.random.choice([0,1],p=[0.05,0.95])\n",
    "        for j in range(seats_booked_first_class):\n",
    "            showup_first_class+=np.random.choice([0,1],p=[0.03,0.97])\n",
    "\n",
    "        # Based on how many people actually show up, calculate how many people end up being overbooked and store value in array for nth simulation\n",
    "        overbooked_vec[n] = max(0,showup_coach - Mc)\n",
    "        # Based on how many people actually show up, calculate how many people end up being bumped from coach to first class and store value in array for nth simulation\n",
    "        bumped_vec[n] = min(overbooked_vec[n], (Mf - showup_first_class))\n",
    "        # Based on how many people actually show up, calculate how many people end up being kicked from the flight and store value in array for nth simulation\n",
    "        kicked_vec[n] = max(0,overbooked_vec[n] - (Mf - showup_first_class))\n",
    "        # Store value of revenue in array for nth simulation\n",
    "        final_revenue_vec[n] = revenue_vec[-1]\n",
    "        # Based on how many people actually show up, calculate costs of people bumped and kicked and store value in array for nth simulation\n",
    "        cost_vec[n] = (50*bumped_vec[n] + 425*kicked_vec[n])*delta**(tN-2)\n",
    "\n",
    "\n",
    "    return overbooked_vec, bumped_vec, kicked_vec, final_revenue_vec, cost_vec, seats_booked_c_vec, seats_booked_f_vec, optimal_prices_mat\n"
   ]
  },
  {
   "cell_type": "code",
   "execution_count": 58,
   "metadata": {},
   "outputs": [
    {
     "name": "stdout",
     "output_type": "stream",
     "text": [
      "Overbooked -  3.2014\n",
      "Bumped -  0.8353\n",
      "Kicked -  2.3661\n",
      "Cost -  884.0652093094693\n",
      "Revenue Mean -  43020.29940931338\n",
      "Revenue Std Dev -  893.4636023280586\n",
      "Profit Mean -  42136.23420000391\n",
      "Profit Std Dev -  934.5621731766422\n",
      "Seats booked in coach - \n"
     ]
    }
   ],
   "source": [
    "# Simulate for alternate strategy\n",
    "\n",
    "overbooked_vec_a, bumped_vec_a, kicked_vec_a, final_revenue_vec_a, cost_vec_a, seats_booked_c_vec_a, seats_booked_f_vec_a, optimal_prices_a = simulate(strategy='alt',N = 10000)\n",
    "profit_a = list(map(operator.add,final_revenue_vec_a, (np.array(cost_vec_a)*(-1))))\n",
    "\n",
    "print(\"Overbooked - \",np.mean(overbooked_vec_a))\n",
    "print(\"Bumped - \",np.mean(bumped_vec_a))\n",
    "print(\"Kicked - \",np.mean(kicked_vec_a))\n",
    "print(\"Cost - \",np.mean(cost_vec_a))\n",
    "print(\"Revenue Mean - \",np.mean(final_revenue_vec_a))\n",
    "print(\"Revenue Std Dev - \",np.std(final_revenue_vec_a))\n",
    "print(\"Profit Mean - \",np.mean(profit_a))\n",
    "print(\"Profit Std Dev - \",np.std(profit_a))\n",
    "print(\"Seats booked in coach - \",)"
   ]
  },
  {
   "cell_type": "code",
   "execution_count": 59,
   "metadata": {},
   "outputs": [
    {
     "name": "stdout",
     "output_type": "stream",
     "text": [
      "Overbooked -  2.9517\n",
      "Bumped -  0.7421\n",
      "Kicked -  2.2096\n",
      "Cost -  823.9891310748853\n",
      "Revenue Mean -  42976.99567290791\n",
      "Revenue Std Dev -  895.7170206891274\n",
      "Profit Mean -  42153.006541833034\n",
      "Profit Std Dev -  940.0374307022837\n"
     ]
    }
   ],
   "source": [
    "# Simulate for fixed strategy\n",
    "\n",
    "overbooked_vec_f, bumped_vec_f, kicked_vec_f, final_revenue_vec_f, cost_vec_f, seats_booked_c_vec_f, seats_booked_f_vec_f, optimal_prices_f = simulate(strategy='fixed',N=10000)\n",
    "profit_f = list(map(operator.add,final_revenue_vec_f, (np.array(cost_vec_f)*(-1))))\n",
    "\n",
    "print(\"Overbooked - \",np.mean(overbooked_vec_f))\n",
    "print(\"Bumped - \",np.mean(bumped_vec_f))\n",
    "print(\"Kicked - \",np.mean(kicked_vec_f))\n",
    "print(\"Cost - \",np.mean(cost_vec_f))\n",
    "print(\"Revenue Mean - \",np.mean(final_revenue_vec_f))\n",
    "print(\"Revenue Std Dev - \",np.std(final_revenue_vec_f))\n",
    "print(\"Profit Mean - \",np.mean(profit_f))\n",
    "print(\"Profit Std Dev - \",np.std(profit_f))\n"
   ]
  },
  {
   "cell_type": "code",
   "execution_count": 60,
   "metadata": {},
   "outputs": [
    {
     "data": {
      "text/plain": [
       "10"
      ]
     },
     "execution_count": 60,
     "metadata": {},
     "output_type": "execute_result"
    }
   ],
   "source": [
    "kicked_value_counts = pd.DataFrame(kicked_vec_f).value_counts()\n",
    "len(kicked_value_counts.values)"
   ]
  },
  {
   "cell_type": "code",
   "execution_count": 62,
   "metadata": {},
   "outputs": [
    {
     "data": {
      "text/plain": [
       "Text(0.5, 0.98, 'Kicked Passengers Histogram')"
      ]
     },
     "execution_count": 62,
     "metadata": {},
     "output_type": "execute_result"
    },
    {
     "data": {
      "image/png": "[encoded data removed]",
      "text/plain": [
       "<Figure size 576x576 with 2 Axes>"
      ]
     },
     "metadata": {
      "needs_background": "light"
     },
     "output_type": "display_data"
    }
   ],
   "source": [
    "fig, ax = plt.subplots(2,1, sharex = True, figsize = (8,8))\n",
    "\n",
    "\n",
    "kicked_val_counts = pd.DataFrame(kicked_vec_a).value_counts().sort_index()\n",
    "kicked_val_counts.index = [str(i) for i in range(10)]\n",
    "kicked_val_counts.plot(kind = \"bar\", ax = ax[1])\n",
    "ax[1].set_title(\"Variable Cap Strategy\")\n",
    "ax[1].set_yticks([])\n",
    "ax[1].set_xticklabels(range(10))\n",
    "\n",
    "kicked_val_counts = pd.DataFrame(kicked_vec_f).value_counts().sort_index()\n",
    "kicked_val_counts.loc[10] = 0\n",
    "kicked_val_counts.index = [str(i) for i in range(11)]\n",
    "kicked_val_counts.plot(kind = \"bar\", ax = ax[0])\n",
    "ax[0].set_title(\"Fixed Cap Strategy\")\n",
    "ax[0].set_yticks([])\n",
    "\n",
    "fig.suptitle(\"Kicked Passengers Histogram\", fontsize = 30)\n"
   ]
  },
  {
   "cell_type": "code",
   "execution_count": 63,
   "metadata": {},
   "outputs": [
    {
     "data": {
      "text/plain": [
       "<AxesSubplot:xlabel='0'>"
      ]
     },
     "execution_count": 63,
     "metadata": {},
     "output_type": "execute_result"
    },
    {
     "data": {
      "image/png": "[encoded data removed]",
      "text/plain": [
       "<Figure size 432x288 with 1 Axes>"
      ]
     },
     "metadata": {
      "needs_background": "light"
     },
     "output_type": "display_data"
    }
   ],
   "source": [
    "pd.DataFrame(kicked_vec_a).value_counts().sort_index().plot(kind = \"bar\")"
   ]
  },
  {
   "cell_type": "code",
   "execution_count": 64,
   "metadata": {},
   "outputs": [
    {
     "data": {
      "text/plain": [
       "Text(0.5, 0.98, 'Profit Histogram')"
      ]
     },
     "execution_count": 64,
     "metadata": {},
     "output_type": "execute_result"
    },
    {
     "data": {
      "image/png": "[encoded data removed]",
      "text/plain": [
       "<Figure size 576x576 with 2 Axes>"
      ]
     },
     "metadata": {
      "needs_background": "light"
     },
     "output_type": "display_data"
    }
   ],
   "source": [
    "fig, ax = plt.subplots(2,1, sharex = True, figsize = (8,8))\n",
    "profit_vec_f = final_revenue_vec_f - cost_vec_f\n",
    "profit_vec_a = final_revenue_vec_a - cost_vec_a\n",
    "\n",
    "ax[0].hist(final_revenue_vec_f - cost_vec_f, bins = 20)\n",
    "ax[0].set_title(\"Fixed Cap Strategy\")\n",
    "ax[0].set_yticks([])\n",
    "\n",
    "\n",
    "ax[1].hist(final_revenue_vec_a - cost_vec_a, bins = 20)\n",
    "ax[1].set_title(\"Variable Cap Strategy\")\n",
    "ax[1].set_yticks([])\n",
    "\n",
    "fig.suptitle(\"Profit Histogram\", fontsize = 25)"
   ]
  },
  {
   "attachments": {},
   "cell_type": "markdown",
   "metadata": {},
   "source": [
    "### Plot area graph of prices"
   ]
  },
  {
   "cell_type": "code",
   "execution_count": 65,
   "metadata": {},
   "outputs": [],
   "source": [
    "# Setup data for plotting\n",
    "coach_prices_a = pd.DataFrame(optimal_prices_a[:,:,0]) # Convert counts into dataframe\n",
    "coach_prices_a = coach_prices_a.apply(lambda x: x.value_counts()/len(x)) # Compute Frequencies\n",
    "coach_prices_a = coach_prices_a.fillna(0) # Fill na\n",
    "coach_prices_a.index = [\"don't sell\", \"low price\", \"high price\"] # Rename 0,1,2 to their respective meanings\n",
    "\n",
    "fc_prices_a = pd.DataFrame(optimal_prices_a[:,:,1]) # Convert counts into dataframe\n",
    "fc_prices_a = fc_prices_a.apply(lambda x: x.value_counts()/len(x)) # Compute Frequencies\n",
    "fc_prices_a = fc_prices_a.fillna(0) # Fill na\n",
    "fc_prices_a.index = [\"don't sell\", \"low price\", \"high price\"] # Rename 0,1,2 to their respective meanings"
   ]
  },
  {
   "cell_type": "code",
   "execution_count": 66,
   "metadata": {},
   "outputs": [],
   "source": [
    "# Setup data for plotting\n",
    "coach_prices_f = pd.DataFrame(optimal_prices_f[:,:,0]) # Convert counts into dataframe\n",
    "coach_prices_f = coach_prices_f.apply(lambda x: x.value_counts()/len(x)) # Compute Frequencies\n",
    "coach_prices_f = coach_prices_f.fillna(0) # Fill na\n",
    "coach_prices_f.index = [\"don't sell\", \"low price\", \"high price\"] # Rename 0,1,2 to their respective meanings\n",
    "\n",
    "fc_prices_f = pd.DataFrame(optimal_prices_f[:,:,1]) # Convert counts into dataframe\n",
    "fc_prices_f = fc_prices_f.apply(lambda x: x.value_counts()/len(x)) # Compute Frequencies\n",
    "fc_prices_f = fc_prices_f.fillna(0) # Fill na\n",
    "fc_prices_f.index = [\"don't sell\", \"low price\", \"high price\"] # Rename 0,1,2 to their respective meanings"
   ]
  },
  {
   "cell_type": "code",
   "execution_count": 67,
   "metadata": {},
   "outputs": [
    {
     "data": {
      "text/plain": [
       "Text(0.5, 0, 'Day')"
      ]
     },
     "execution_count": 67,
     "metadata": {},
     "output_type": "execute_result"
    },
    {
     "data": {
      "image/png": "[encoded data removed]",
      "text/plain": [
       "<Figure size 720x720 with 4 Axes>"
      ]
     },
     "metadata": {
      "needs_background": "light"
     },
     "output_type": "display_data"
    }
   ],
   "source": [
    "# Plotting\n",
    "fig, axes = plt.subplots(4,1, clear = True, sharex = True, sharey = True, figsize=(10, 10))\n",
    "coach_prices_f.transpose()[[\"don't sell\", \"high price\", \"low price\"]].plot(kind = \"area\",\n",
    "                                                                           ax = axes[0],\n",
    "                                                                           legend = False)\n",
    "coach_prices_a.transpose()[[\"don't sell\", \"high price\", \"low price\"]].plot(kind = \"area\",\n",
    "                                                                           ax = axes[1],\n",
    "                                                                           legend = False)\n",
    "fc_prices_f.transpose()[[\"don't sell\", \"high price\", \"low price\"]].plot(kind = \"area\",\n",
    "                                                                        ax = axes[2],\n",
    "                                                                        legend = False)\n",
    "fc_prices_a.transpose()[[\"don't sell\", \"high price\", \"low price\"]].plot(kind = \"area\",\n",
    "                                                                        ax = axes[3],\n",
    "                                                                        legend = False)\n",
    "\n",
    "handles, labels = axes[0].get_legend_handles_labels()\n",
    "fig.legend(handles, labels, loc = \"upper right\", prop={'size': 12})\n",
    "fig.suptitle(\"Change in Ticket Price in Time\", fontsize = 25)\n",
    "axes[0].set_title(\"Fixed Strategy Coach Seats\")\n",
    "axes[1].set_title(\"Variable Strategy Coach Seats\")\n",
    "axes[2].set_title(\"Fixed Strategy First Class Seats\")\n",
    "axes[3].set_title(\"Variable Strategy First Class Seats\")\n",
    "axes[3].set_xlabel(\"Day\")"
   ]
  },
  {
   "attachments": {},
   "cell_type": "markdown",
   "metadata": {},
   "source": [
    "### Plot distribution of terminal condition"
   ]
  },
  {
   "cell_type": "code",
   "execution_count": 68,
   "metadata": {},
   "outputs": [
    {
     "data": {
      "text/plain": [
       "Text(0.5, 15.0, 'First Class Seats')"
      ]
     },
     "execution_count": 68,
     "metadata": {},
     "output_type": "execute_result"
    },
    {
     "data": {
      "image/png": "[encoded data removed]",
      "text/plain": [
       "<Figure size 432x288 with 2 Axes>"
      ]
     },
     "metadata": {
      "needs_background": "light"
     },
     "output_type": "display_data"
    }
   ],
   "source": [
    "dist = pd.DataFrame([[stats.binom.pmf(i,105,0.95)*stats.binom.pmf(j,20,0.97) for i in range(95,106)] for j in range(15,21)])\n",
    "dist.index = range(15,21)\n",
    "dist.columns = range(95,106)\n",
    "import seaborn as sns\n",
    "sns.heatmap(dist,cmap=sns.color_palette(\"YlOrBr\", as_cmap=True))\n",
    "plt.title(\"Density Function of Bookings with 105 Coach Bookings and 20 First Class\")\n",
    "plt.xlabel(\"Coach Seats\")\n",
    "plt.xlabel(\"First Class Seats\")"
   ]
  },
  {
   "attachments": {},
   "cell_type": "markdown",
   "metadata": {},
   "source": [
    "### Measure number of times switching of prices occurs"
   ]
  },
  {
   "cell_type": "code",
   "execution_count": 69,
   "metadata": {},
   "outputs": [],
   "source": [
    "def deconstruct_price_changes(x):\n",
    "    '''Takes in a price history as a series, and returns a tuple containing the number of times the price changed,\n",
    "    and the number of times the price was set to 0'''\n",
    "    price_change = x[1:].values != x[:-1].values\n",
    "    n_price_changes = price_change.sum()\n",
    "    stop_selling = x[1:][price_change] == 0\n",
    "    n_stop_selling = sum(stop_selling)\n",
    "    return pd.Series({\"Price Changes\": n_price_changes, \"Stop Selling\": n_stop_selling})"
   ]
  },
  {
   "cell_type": "code",
   "execution_count": 70,
   "metadata": {},
   "outputs": [],
   "source": [
    "# Setup data for plotting\n",
    "coach_prices_f = pd.DataFrame(optimal_prices_f[:,:,0]) # Convert prices into dataframe\n",
    "fc_prices_f = pd.DataFrame(optimal_prices_f[:,:,1])\n",
    "\n",
    "coach_prices_a = pd.DataFrame(optimal_prices_a[:,:,0]) # Convert prices into dataframe\n",
    "fc_prices_a = pd.DataFrame(optimal_prices_a[:,:,1])\n",
    "\n",
    "price_changes_coach_f = coach_prices_f.apply(deconstruct_price_changes, axis = 1)\n",
    "price_changes_coach_a = coach_prices_a.apply(deconstruct_price_changes, axis = 1)\n",
    "price_changes_fc_f = fc_prices_f.apply(deconstruct_price_changes, axis = 1)\n",
    "price_changes_fc_a = fc_prices_a.apply(deconstruct_price_changes, axis = 1)"
   ]
  },
  {
   "cell_type": "code",
   "execution_count": 71,
   "metadata": {},
   "outputs": [
    {
     "data": {
      "text/plain": [
       "Price Changes    6.7716\n",
       "Stop Selling     0.5975\n",
       "dtype: float64"
      ]
     },
     "execution_count": 71,
     "metadata": {},
     "output_type": "execute_result"
    }
   ],
   "source": [
    "price_changes_coach_f.mean()"
   ]
  },
  {
   "cell_type": "code",
   "execution_count": 72,
   "metadata": {},
   "outputs": [
    {
     "data": {
      "text/plain": [
       "Price Changes    7.0463\n",
       "Stop Selling     0.6829\n",
       "dtype: float64"
      ]
     },
     "execution_count": 72,
     "metadata": {},
     "output_type": "execute_result"
    }
   ],
   "source": [
    "price_changes_coach_a.mean()"
   ]
  },
  {
   "cell_type": "code",
   "execution_count": 73,
   "metadata": {},
   "outputs": [
    {
     "data": {
      "text/plain": [
       "Price Changes    8.7812\n",
       "Stop Selling     0.7044\n",
       "dtype: float64"
      ]
     },
     "execution_count": 73,
     "metadata": {},
     "output_type": "execute_result"
    }
   ],
   "source": [
    "price_changes_fc_a.mean()"
   ]
  },
  {
   "cell_type": "code",
   "execution_count": 74,
   "metadata": {},
   "outputs": [
    {
     "data": {
      "text/plain": [
       "Price Changes    8.6799\n",
       "Stop Selling     0.7351\n",
       "dtype: float64"
      ]
     },
     "execution_count": 74,
     "metadata": {},
     "output_type": "execute_result"
    }
   ],
   "source": [
    "price_changes_fc_f.mean()"
   ]
  },
  {
   "attachments": {},
   "cell_type": "markdown",
   "metadata": {},
   "source": [
    "$$$$\n",
    "$$\n",
    "\\begin{alignat*}{}\n",
    "V(f,c,t) &= \\max_{p_f,p_c}\\{P(F|p_f)*p_f + P(C|p_c)*p_c +\\delta*&  (P(F|p_f)*P(F|p_c)*V(f-1,c-1,t+1)\\\\\n",
    "&& + (1-P(F|p_f))*P(C|p_c)*V(f,c-1,t)\\\\\n",
    "&& + P(F|p_f)*(1-P(C|p_c))*V(f-1,c,t+1)\\\\\n",
    "&& + (1-P(F|p_f))*(1-P(C|p_c))*V(f,c,t+1))\\},\n",
    "\\end{alignat*}{}$$"
   ]
  },
  {
   "cell_type": "markdown",
   "metadata": {},
   "source": []
  }
 ],
 "metadata": {
  "kernelspec": {
   "display_name": "Python 3",
   "language": "python",
   "name": "python3"
  },
  "language_info": {
   "codemirror_mode": {
    "name": "ipython",
    "version": 3
   },
   "file_extension": ".py",
   "mimetype": "text/x-python",
   "name": "python",
   "nbconvert_exporter": "python",
   "pygments_lexer": "ipython3",
   "version": "3.9.12"
  },
  "orig_nbformat": 4
 },
 "nbformat": 4,
 "nbformat_minor": 2
}
